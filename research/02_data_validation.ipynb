{
 "cells": [
  {
   "cell_type": "code",
   "execution_count": 1,
   "metadata": {},
   "outputs": [
    {
     "data": {
      "text/plain": [
       "'d:\\\\Projects\\\\heart-attack risk prediction\\\\research'"
      ]
     },
     "execution_count": 1,
     "metadata": {},
     "output_type": "execute_result"
    }
   ],
   "source": [
    "import os\n",
    "\n",
    "%pwd"
   ]
  },
  {
   "cell_type": "code",
   "execution_count": 2,
   "metadata": {},
   "outputs": [
    {
     "data": {
      "text/plain": [
       "'d:\\\\Projects\\\\heart-attack risk prediction'"
      ]
     },
     "execution_count": 2,
     "metadata": {},
     "output_type": "execute_result"
    }
   ],
   "source": [
    "os.chdir('../')\n",
    "\n",
    "%pwd"
   ]
  },
  {
   "cell_type": "code",
   "execution_count": 3,
   "metadata": {},
   "outputs": [],
   "source": [
    "import pandas as pd\n",
    "\n",
    "df = pd.read_csv('artifacts/data_ingestion/heart_attack_risk_dataset.csv')"
   ]
  },
  {
   "cell_type": "code",
   "execution_count": 4,
   "metadata": {},
   "outputs": [
    {
     "data": {
      "text/html": [
       "<div>\n",
       "<style scoped>\n",
       "    .dataframe tbody tr th:only-of-type {\n",
       "        vertical-align: middle;\n",
       "    }\n",
       "\n",
       "    .dataframe tbody tr th {\n",
       "        vertical-align: top;\n",
       "    }\n",
       "\n",
       "    .dataframe thead th {\n",
       "        text-align: right;\n",
       "    }\n",
       "</style>\n",
       "<table border=\"1\" class=\"dataframe\">\n",
       "  <thead>\n",
       "    <tr style=\"text-align: right;\">\n",
       "      <th></th>\n",
       "      <th>Age</th>\n",
       "      <th>Gender</th>\n",
       "      <th>Smoking</th>\n",
       "      <th>Alcohol_Consumption</th>\n",
       "      <th>Physical_Activity_Level</th>\n",
       "      <th>BMI</th>\n",
       "      <th>Diabetes</th>\n",
       "      <th>Hypertension</th>\n",
       "      <th>Cholesterol_Level</th>\n",
       "      <th>Resting_BP</th>\n",
       "      <th>Heart_Rate</th>\n",
       "      <th>Family_History</th>\n",
       "      <th>Stress_Level</th>\n",
       "      <th>Chest_Pain_Type</th>\n",
       "      <th>Thalassemia</th>\n",
       "      <th>Fasting_Blood_Sugar</th>\n",
       "      <th>ECG_Results</th>\n",
       "      <th>Exercise_Induced_Angina</th>\n",
       "      <th>Max_Heart_Rate_Achieved</th>\n",
       "      <th>Heart_Attack_Risk</th>\n",
       "    </tr>\n",
       "  </thead>\n",
       "  <tbody>\n",
       "    <tr>\n",
       "      <th>0</th>\n",
       "      <td>69</td>\n",
       "      <td>Female</td>\n",
       "      <td>1</td>\n",
       "      <td>0</td>\n",
       "      <td>Moderate</td>\n",
       "      <td>34.61</td>\n",
       "      <td>1</td>\n",
       "      <td>0</td>\n",
       "      <td>152.1</td>\n",
       "      <td>171</td>\n",
       "      <td>85</td>\n",
       "      <td>0</td>\n",
       "      <td>Moderate</td>\n",
       "      <td>Non-anginal</td>\n",
       "      <td>Reversible defect</td>\n",
       "      <td>0</td>\n",
       "      <td>Normal</td>\n",
       "      <td>0</td>\n",
       "      <td>114</td>\n",
       "      <td>Low</td>\n",
       "    </tr>\n",
       "    <tr>\n",
       "      <th>1</th>\n",
       "      <td>32</td>\n",
       "      <td>Male</td>\n",
       "      <td>0</td>\n",
       "      <td>0</td>\n",
       "      <td>Moderate</td>\n",
       "      <td>22.75</td>\n",
       "      <td>0</td>\n",
       "      <td>0</td>\n",
       "      <td>166.8</td>\n",
       "      <td>126</td>\n",
       "      <td>103</td>\n",
       "      <td>0</td>\n",
       "      <td>Low</td>\n",
       "      <td>Asymptomatic</td>\n",
       "      <td>Normal</td>\n",
       "      <td>0</td>\n",
       "      <td>ST-T abnormality</td>\n",
       "      <td>0</td>\n",
       "      <td>173</td>\n",
       "      <td>Moderate</td>\n",
       "    </tr>\n",
       "    <tr>\n",
       "      <th>2</th>\n",
       "      <td>89</td>\n",
       "      <td>Male</td>\n",
       "      <td>0</td>\n",
       "      <td>1</td>\n",
       "      <td>Moderate</td>\n",
       "      <td>35.32</td>\n",
       "      <td>0</td>\n",
       "      <td>0</td>\n",
       "      <td>272.3</td>\n",
       "      <td>123</td>\n",
       "      <td>127</td>\n",
       "      <td>0</td>\n",
       "      <td>Low</td>\n",
       "      <td>Typical</td>\n",
       "      <td>Reversible defect</td>\n",
       "      <td>0</td>\n",
       "      <td>ST-T abnormality</td>\n",
       "      <td>0</td>\n",
       "      <td>109</td>\n",
       "      <td>Low</td>\n",
       "    </tr>\n",
       "    <tr>\n",
       "      <th>3</th>\n",
       "      <td>78</td>\n",
       "      <td>Male</td>\n",
       "      <td>0</td>\n",
       "      <td>1</td>\n",
       "      <td>Moderate</td>\n",
       "      <td>18.23</td>\n",
       "      <td>1</td>\n",
       "      <td>0</td>\n",
       "      <td>237.7</td>\n",
       "      <td>144</td>\n",
       "      <td>125</td>\n",
       "      <td>0</td>\n",
       "      <td>Low</td>\n",
       "      <td>Typical</td>\n",
       "      <td>Fixed defect</td>\n",
       "      <td>1</td>\n",
       "      <td>Left Ventricular Hypertrophy</td>\n",
       "      <td>0</td>\n",
       "      <td>129</td>\n",
       "      <td>Low</td>\n",
       "    </tr>\n",
       "    <tr>\n",
       "      <th>4</th>\n",
       "      <td>38</td>\n",
       "      <td>Female</td>\n",
       "      <td>1</td>\n",
       "      <td>0</td>\n",
       "      <td>Moderate</td>\n",
       "      <td>19.82</td>\n",
       "      <td>0</td>\n",
       "      <td>0</td>\n",
       "      <td>207.7</td>\n",
       "      <td>123</td>\n",
       "      <td>107</td>\n",
       "      <td>0</td>\n",
       "      <td>High</td>\n",
       "      <td>Asymptomatic</td>\n",
       "      <td>Reversible defect</td>\n",
       "      <td>0</td>\n",
       "      <td>ST-T abnormality</td>\n",
       "      <td>0</td>\n",
       "      <td>124</td>\n",
       "      <td>Moderate</td>\n",
       "    </tr>\n",
       "  </tbody>\n",
       "</table>\n",
       "</div>"
      ],
      "text/plain": [
       "   Age  Gender  Smoking  Alcohol_Consumption Physical_Activity_Level    BMI  \\\n",
       "0   69  Female        1                    0                Moderate  34.61   \n",
       "1   32    Male        0                    0                Moderate  22.75   \n",
       "2   89    Male        0                    1                Moderate  35.32   \n",
       "3   78    Male        0                    1                Moderate  18.23   \n",
       "4   38  Female        1                    0                Moderate  19.82   \n",
       "\n",
       "   Diabetes  Hypertension  Cholesterol_Level  Resting_BP  Heart_Rate  \\\n",
       "0         1             0              152.1         171          85   \n",
       "1         0             0              166.8         126         103   \n",
       "2         0             0              272.3         123         127   \n",
       "3         1             0              237.7         144         125   \n",
       "4         0             0              207.7         123         107   \n",
       "\n",
       "   Family_History Stress_Level Chest_Pain_Type        Thalassemia  \\\n",
       "0               0     Moderate     Non-anginal  Reversible defect   \n",
       "1               0          Low    Asymptomatic             Normal   \n",
       "2               0          Low         Typical  Reversible defect   \n",
       "3               0          Low         Typical       Fixed defect   \n",
       "4               0         High    Asymptomatic  Reversible defect   \n",
       "\n",
       "   Fasting_Blood_Sugar                   ECG_Results  Exercise_Induced_Angina  \\\n",
       "0                    0                        Normal                        0   \n",
       "1                    0              ST-T abnormality                        0   \n",
       "2                    0              ST-T abnormality                        0   \n",
       "3                    1  Left Ventricular Hypertrophy                        0   \n",
       "4                    0              ST-T abnormality                        0   \n",
       "\n",
       "   Max_Heart_Rate_Achieved Heart_Attack_Risk  \n",
       "0                      114               Low  \n",
       "1                      173          Moderate  \n",
       "2                      109               Low  \n",
       "3                      129               Low  \n",
       "4                      124          Moderate  "
      ]
     },
     "execution_count": 4,
     "metadata": {},
     "output_type": "execute_result"
    }
   ],
   "source": [
    "df.head()"
   ]
  },
  {
   "cell_type": "code",
   "execution_count": 5,
   "metadata": {},
   "outputs": [
    {
     "data": {
      "text/plain": [
       "Index(['Age', 'Gender', 'Smoking', 'Alcohol_Consumption',\n",
       "       'Physical_Activity_Level', 'BMI', 'Diabetes', 'Hypertension',\n",
       "       'Cholesterol_Level', 'Resting_BP', 'Heart_Rate', 'Family_History',\n",
       "       'Stress_Level', 'Chest_Pain_Type', 'Thalassemia', 'Fasting_Blood_Sugar',\n",
       "       'ECG_Results', 'Exercise_Induced_Angina', 'Max_Heart_Rate_Achieved',\n",
       "       'Heart_Attack_Risk'],\n",
       "      dtype='object')"
      ]
     },
     "execution_count": 5,
     "metadata": {},
     "output_type": "execute_result"
    }
   ],
   "source": [
    "df.columns"
   ]
  },
  {
   "cell_type": "code",
   "execution_count": 6,
   "metadata": {},
   "outputs": [
    {
     "name": "stdout",
     "output_type": "stream",
     "text": [
      "<class 'pandas.core.frame.DataFrame'>\n",
      "RangeIndex: 50000 entries, 0 to 49999\n",
      "Data columns (total 20 columns):\n",
      " #   Column                   Non-Null Count  Dtype  \n",
      "---  ------                   --------------  -----  \n",
      " 0   Age                      50000 non-null  int64  \n",
      " 1   Gender                   50000 non-null  object \n",
      " 2   Smoking                  50000 non-null  int64  \n",
      " 3   Alcohol_Consumption      50000 non-null  int64  \n",
      " 4   Physical_Activity_Level  50000 non-null  object \n",
      " 5   BMI                      50000 non-null  float64\n",
      " 6   Diabetes                 50000 non-null  int64  \n",
      " 7   Hypertension             50000 non-null  int64  \n",
      " 8   Cholesterol_Level        50000 non-null  float64\n",
      " 9   Resting_BP               50000 non-null  int64  \n",
      " 10  Heart_Rate               50000 non-null  int64  \n",
      " 11  Family_History           50000 non-null  int64  \n",
      " 12  Stress_Level             50000 non-null  object \n",
      " 13  Chest_Pain_Type          50000 non-null  object \n",
      " 14  Thalassemia              50000 non-null  object \n",
      " 15  Fasting_Blood_Sugar      50000 non-null  int64  \n",
      " 16  ECG_Results              50000 non-null  object \n",
      " 17  Exercise_Induced_Angina  50000 non-null  int64  \n",
      " 18  Max_Heart_Rate_Achieved  50000 non-null  int64  \n",
      " 19  Heart_Attack_Risk        50000 non-null  object \n",
      "dtypes: float64(2), int64(11), object(7)\n",
      "memory usage: 7.6+ MB\n"
     ]
    }
   ],
   "source": [
    "df.info()"
   ]
  },
  {
   "cell_type": "code",
   "execution_count": null,
   "metadata": {},
   "outputs": [],
   "source": []
  },
  {
   "cell_type": "code",
   "execution_count": 7,
   "metadata": {},
   "outputs": [],
   "source": [
    "# Modifying the entity for the validation\n",
    "\n",
    "from dataclasses import dataclass\n",
    "from pathlib import Path\n",
    "\n",
    "\n",
    "@dataclass(frozen=True)\n",
    "class DataValidationConfig:\n",
    "    root_dir: Path\n",
    "    STATUS_FILE: str\n",
    "    unzip_data_dir: Path\n",
    "    all_schema: dict        # schema for all the files"
   ]
  },
  {
   "cell_type": "code",
   "execution_count": 8,
   "metadata": {},
   "outputs": [],
   "source": [
    "from mlProject.constants import *\n",
    "from mlProject.utils.common import read_yaml, create_directories"
   ]
  },
  {
   "cell_type": "code",
   "execution_count": 9,
   "metadata": {},
   "outputs": [],
   "source": [
    "class ConfigurationManager:\n",
    "    def __init__(\n",
    "        self,\n",
    "        config_filepath = CONFIG_FILE_PATH,\n",
    "        params_filepath = PARAMS_FILE_PATH,\n",
    "        schema_filepath = SCHEMA_FILE_PATH):\n",
    "\n",
    "        self.config = read_yaml(config_filepath)\n",
    "        self.params = read_yaml(params_filepath)\n",
    "        self.schema = read_yaml(schema_filepath)\n",
    "\n",
    "        create_directories([self.config.artifacts_root])\n",
    "\n",
    "\n",
    "    \n",
    "    def get_data_validation_config(self) -> DataValidationConfig:\n",
    "        config = self.config.data_validation\n",
    "        schema = self.schema.COLUMNS\n",
    "\n",
    "        create_directories([config.root_dir])\n",
    "\n",
    "        data_validation_config = DataValidationConfig(\n",
    "            root_dir=config.root_dir,\n",
    "            STATUS_FILE=config.STATUS_FILE,\n",
    "            unzip_data_dir = config.unzip_data_dir,\n",
    "            all_schema=schema,\n",
    "        )\n",
    "\n",
    "        return data_validation_config"
   ]
  },
  {
   "cell_type": "code",
   "execution_count": 10,
   "metadata": {},
   "outputs": [],
   "source": [
    "from typing import Dict"
   ]
  },
  {
   "cell_type": "code",
   "execution_count": 14,
   "metadata": {},
   "outputs": [],
   "source": [
    "class DataValiadtion:\n",
    "    def __init__(self, config: DataValidationConfig):\n",
    "        self.config = config\n",
    "\n",
    "\n",
    "    def validate_all_columns(self) -> bool:\n",
    "        try:\n",
    "            validation_status = True\n",
    "\n",
    "            data = pd.read_csv(self.config.unzip_data_dir)\n",
    "            all_cols = list(data.columns)\n",
    "            all_schema = self.config.all_schema\n",
    "\n",
    "            # Check for missing columns\n",
    "            for col in all_cols:\n",
    "                if col not in all_schema:\n",
    "                    validation_status = False\n",
    "                    with open(self.config.STATUS_FILE, 'w') as f:\n",
    "                        f.write(f\"Validation status: {validation_status} - Missing column: {col}\\n\")\n",
    "                    return validation_status\n",
    "\n",
    "            # Check for data types\n",
    "            for col, dtype in all_schema.items():\n",
    "                if col in data.columns:\n",
    "                    if data[col].dtype != dtype:\n",
    "                        validation_status = False\n",
    "                        with open(self.config.STATUS_FILE, 'w') as f:\n",
    "                            f.write(f\"Validation status: {validation_status} - Incorrect data type for column: {col}\\n\")\n",
    "                        return validation_status\n",
    "\n",
    "            # Check for null values\n",
    "            if data.isnull().values.any():\n",
    "                validation_status = False\n",
    "                with open(self.config.STATUS_FILE, 'w') as f:\n",
    "                    f.write(f\"Validation status: {validation_status} - Null values present\\n\")\n",
    "                return validation_status\n",
    "\n",
    "            # Check for duplicates\n",
    "            if data.duplicated().any():\n",
    "                validation_status = False\n",
    "                with open(self.config.STATUS_FILE, 'w') as f:\n",
    "                    f.write(f\"Validation status: {validation_status} - Duplicate rows present\\n\")\n",
    "                return validation_status\n",
    "\n",
    "            with open(self.config.STATUS_FILE, 'w') as f:\n",
    "                f.write(f\"Validation status: {validation_status}\\n\")\n",
    "\n",
    "            return validation_status\n",
    "        \n",
    "        except Exception as e:\n",
    "            raise e"
   ]
  },
  {
   "cell_type": "code",
   "execution_count": 15,
   "metadata": {},
   "outputs": [
    {
     "name": "stdout",
     "output_type": "stream",
     "text": [
      "[2025-02-04 12:28:30,888: INFO: common: yaml file: config\\config.yaml loaded successfully]\n",
      "[2025-02-04 12:28:30,891: INFO: common: yaml file: params.yaml loaded successfully]\n",
      "[2025-02-04 12:28:30,896: INFO: common: yaml file: schema.yaml loaded successfully]\n",
      "[2025-02-04 12:28:30,898: INFO: common: created directory at: artifacts]\n",
      "[2025-02-04 12:28:30,899: INFO: common: created directory at: artifacts/data_validation]\n"
     ]
    }
   ],
   "source": [
    "try:\n",
    "    config = ConfigurationManager()\n",
    "    data_validation_config = config.get_data_validation_config()\n",
    "    data_validation = DataValiadtion(config=data_validation_config)\n",
    "    data_validation.validate_all_columns()\n",
    "except Exception as e:\n",
    "    raise e"
   ]
  },
  {
   "cell_type": "code",
   "execution_count": null,
   "metadata": {},
   "outputs": [],
   "source": []
  }
 ],
 "metadata": {
  "kernelspec": {
   "display_name": "Python 3",
   "language": "python",
   "name": "python3"
  },
  "language_info": {
   "codemirror_mode": {
    "name": "ipython",
    "version": 3
   },
   "file_extension": ".py",
   "mimetype": "text/x-python",
   "name": "python",
   "nbconvert_exporter": "python",
   "pygments_lexer": "ipython3",
   "version": "3.10.16"
  }
 },
 "nbformat": 4,
 "nbformat_minor": 2
}
